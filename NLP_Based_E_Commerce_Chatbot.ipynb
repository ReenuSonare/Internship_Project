{
  "cells": [
    {
      "cell_type": "markdown",
      "metadata": {
        "id": "view-in-github",
        "colab_type": "text"
      },
      "source": [
        "<a href=\"https://colab.research.google.com/github/ReenuSonare/Internship_Project/blob/main/NLP_Based_E_Commerce_Chatbot.ipynb\" target=\"_parent\"><img src=\"https://colab.research.google.com/assets/colab-badge.svg\" alt=\"Open In Colab\"/></a>"
      ]
    },
    {
      "cell_type": "markdown",
      "source": [
        "**Step 1: Setup and Data Preparation**"
      ],
      "metadata": {
        "id": "eSfNRTu0Sp12"
      }
    },
    {
      "cell_type": "markdown",
      "source": [
        "**Install NLTK Data:**"
      ],
      "metadata": {
        "id": "1b_m9WkkSplk"
      }
    },
    {
      "cell_type": "code",
      "source": [
        "import nltk\n",
        "# Download necessary NLTK data\n",
        "nltk.download('punkt')\n",
        "nltk.download('wordnet')\n"
      ],
      "metadata": {
        "colab": {
          "base_uri": "https://localhost:8080/"
        },
        "id": "pQmHCjH3OQFD",
        "outputId": "00574884-be2d-4748-cb39-79d5ca64884e"
      },
      "execution_count": 14,
      "outputs": [
        {
          "output_type": "stream",
          "name": "stderr",
          "text": [
            "[nltk_data] Downloading package punkt to /root/nltk_data...\n",
            "[nltk_data]   Package punkt is already up-to-date!\n",
            "[nltk_data] Downloading package wordnet to /root/nltk_data...\n",
            "[nltk_data]   Package wordnet is already up-to-date!\n"
          ]
        },
        {
          "output_type": "execute_result",
          "data": {
            "text/plain": [
              "True"
            ]
          },
          "metadata": {},
          "execution_count": 14
        }
      ]
    },
    {
      "cell_type": "markdown",
      "source": [
        "**Load and Process Intents File:**"
      ],
      "metadata": {
        "id": "vkHg6J7KSmT6"
      }
    },
    {
      "cell_type": "code",
      "source": [
        "import json\n",
        "import pickle\n",
        "import numpy as np\n",
        "import random\n",
        "from nltk.stem import WordNetLemmatizer\n",
        "\n",
        "lemmatizer = WordNetLemmatizer()\n",
        "\n",
        "# Load intents file\n",
        "with open('intents.json') as file:\n",
        "    intents = json.load(file)\n"
      ],
      "metadata": {
        "id": "C7eL2BNMOSCd"
      },
      "execution_count": 15,
      "outputs": []
    },
    {
      "cell_type": "markdown",
      "source": [
        "**Intents**"
      ],
      "metadata": {
        "id": "Auq56gr7SxMf"
      }
    },
    {
      "cell_type": "code",
      "source": [
        "intents"
      ],
      "metadata": {
        "colab": {
          "base_uri": "https://localhost:8080/"
        },
        "id": "VZDp7VS9OVpk",
        "outputId": "925894cd-c2b2-43e4-a9bc-8b141805e7fd"
      },
      "execution_count": 16,
      "outputs": [
        {
          "output_type": "execute_result",
          "data": {
            "text/plain": [
              "{'intents': [{'tag': 'greeting',\n",
              "   'patterns': ['Hi', 'Hey', 'Is anyone there?', 'Hello', 'Good day'],\n",
              "   'responses': ['Hey :-) My name is Daz!',\n",
              "    'Hello, thanks for visiting. My name is Daz!',\n",
              "    'Hi there, My name is Daz!. What can I do for you?',\n",
              "    'Hi there, My name is Daz! How can I help?']},\n",
              "  {'tag': 'personal',\n",
              "   'patterns': ['How are you?', 'How are you doing?', 'How is your day?'],\n",
              "   'responses': [\"I'm good, all's good, thanks. How about you?\"]},\n",
              "  {'tag': 'user response',\n",
              "   'patterns': [\"I'm good\",\n",
              "    'Im good',\n",
              "    'Im doing good',\n",
              "    'I am good',\n",
              "    'I am okay'],\n",
              "   'responses': ['Great to hear you are doing good.']},\n",
              "  {'tag': 'goodbye',\n",
              "   'patterns': ['Bye', 'See you later', 'Goodbye'],\n",
              "   'responses': ['See you later, thanks for visiting. Hope I was able to help!',\n",
              "    'Have a nice day. Hope I was able to help!']},\n",
              "  {'tag': 'thanks',\n",
              "   'patterns': ['Thanks',\n",
              "    'Thank you',\n",
              "    \"That's helpful\",\n",
              "    \"Thank's a lot!\",\n",
              "    'thx',\n",
              "    'thnks'],\n",
              "   'responses': ['Happy to help!', 'Any time!', 'My pleasure']},\n",
              "  {'tag': 'items',\n",
              "   'patterns': ['Which items do you have?',\n",
              "    'What kinds of items are there?',\n",
              "    'What do you sell?',\n",
              "    'What do you offer?',\n",
              "    'What can I buy?'],\n",
              "   'responses': [\"Search your preference in our flagship store's search bar to see all available products. \"]},\n",
              "  {'tag': 'payments',\n",
              "   'patterns': ['Do you take credit cards?',\n",
              "    'Do you accept Mastercard?',\n",
              "    'Can I pay with Cash?',\n",
              "    'Are you cash only?',\n",
              "    'What are your payment methods?',\n",
              "    'How do I pay?'],\n",
              "   'responses': ['We accept VISA, Mastercard and Cash']},\n",
              "  {'tag': 'track',\n",
              "   'patterns': ['How can I track my order',\n",
              "    'I want to track my order',\n",
              "    'Can I track my order',\n",
              "    'Track order'],\n",
              "   'responses': [\"Visit the order page, click on the specific order, select 'track my order', and check the status\"]},\n",
              "  {'tag': 'delivery',\n",
              "   'patterns': ['How long does delivery take?',\n",
              "    'How long does shipping take?',\n",
              "    'Please Tell me about my delivery',\n",
              "    'When do I get my delivery?',\n",
              "    'Why is my order not delivered yet'],\n",
              "   'responses': ['Delivery takes 2-4 days. Please bear with us!',\n",
              "    'Shipping takes 2-4 days.  Please bear with us!']},\n",
              "  {'tag': 'confirm',\n",
              "   'patterns': [\"My payment was processed successfully but I didn't get any order confirmation. What should I do?\",\n",
              "    'Payment was completed but no confirmation',\n",
              "    'Order was not confirmed',\n",
              "    'Money deducted but order is not confirmed'],\n",
              "   'responses': ['Daraz sends you an Email & SMS upon confirmation of your order. If it requires manual confirmation, our team will contact you within 24 hours after order placement. Delay in confirmation SMS may occur due to network error, you may receive it with a delay.',\n",
              "    'It takes upto 24 hours for confirmation, please bear with us! Type Need more help for more assistance. ']},\n",
              "  {'tag': 'delay',\n",
              "   'patterns': ['Why is my order delayed? ',\n",
              "    'Did my order get delayed?',\n",
              "    'Why is my order not delivered yet?',\n",
              "    'When do I get my delivery?'],\n",
              "   'responses': ['We are really sorry if there has been a delay in your order! If your order is within delivery period, We recommend you to please wait during this period since our Delivery Heroes make 3 attempts to deliver your order!',\n",
              "    \"If your order is past up to 3 days after delivery period, There may be logistic issues causing a delay in delivery. Please type 'Common reasons for delivery delay' to know more about this.\",\n",
              "    'We appreciate if you could wait for your items as most orders are delivered successfully within this period.',\n",
              "    \"If your order is past more than 3 days, Since there may be unexpected issues causing delivery delays, you can click on 'Need more Help' for further assistance.\"]},\n",
              "  {'tag': 'reasons',\n",
              "   'patterns': ['Common reasons for delivery delay',\n",
              "    'common reasons for delivery delay',\n",
              "    'reasons for delay',\n",
              "    'delivery delay'],\n",
              "   'responses': ['Reasons include Seller Sourcing Issues, Courier Issues, Cross Border shipment delay, Wrong Address or Phone Number, and Unavailability of Customer. ']},\n",
              "  {'tag': 'more',\n",
              "   'patterns': ['Need more help',\n",
              "    'help me more',\n",
              "    'can I talk to an agent',\n",
              "    'can I call customer service',\n",
              "    'customer support number',\n",
              "    'how to contact customer service',\n",
              "    'customer service number',\n",
              "    'contact number for help',\n",
              "    'helpline number',\n",
              "    'How to become a seller',\n",
              "    'How to contact a seller',\n",
              "    'Seller support'],\n",
              "   'responses': ['Contact us for further information here: Phone: 021-111-132729. Timings are from 09:00 AM to 05:00 PM from Monday to Saturday.']},\n",
              "  {'tag': 'cancel',\n",
              "   'patterns': ['Can I cancel my order?',\n",
              "    'Why is my order cancelled?',\n",
              "    'How do I can cancel my order',\n",
              "    'Can I cancel an order',\n",
              "    'Cancellation policy',\n",
              "    'Cancelation procedure'],\n",
              "   'responses': ['Order can only be cancelled within 7 days of placement. Digital goods do not qualify for refund.',\n",
              "    'Visit my orders page to check status of specific orders.']},\n",
              "  {'tag': 'refund',\n",
              "   'patterns': ['Can I refund an item.',\n",
              "    'I want to refund an item',\n",
              "    'can I refund my order',\n",
              "    'Are refunds available',\n",
              "    'Refund process',\n",
              "    'Refund policy'],\n",
              "   'responses': ['Refund can only be issued within 7 days of placement. Digital goods do not qualify for refund.',\n",
              "    'Visit my orders page to check for specific orders.']},\n",
              "  {'tag': 'refund status',\n",
              "   'patterns': [\"Why is the status Refunded when it's not credited?\",\n",
              "    'No refund even though status is refunded',\n",
              "    'No refund when status says refunded',\n",
              "    'I did not receive my refund money',\n",
              "    'Refund money not received',\n",
              "    'Refund status',\n",
              "    'Refund confirmation'],\n",
              "   'responses': ['Please be patient as refunds take upto 30 days to receive into bank. ']},\n",
              "  {'tag': 'return',\n",
              "   'patterns': ['How long do return items take',\n",
              "    'When will my items be returned',\n",
              "    'When can I get a refund for return items?',\n",
              "    'Are refunds available for return?',\n",
              "    'Return process',\n",
              "    'Return policy'],\n",
              "   'responses': [\"Return takes 6 to 10 business days. There are 2 parts to the return process. In the first part, we check the items received from you to verify the issue highlighted in your return claim. Once we've verified and accepted your return, we initiate the refund process which takes 1 business day for Daraz wallet and 2-10 business days for bank or card. \"]},\n",
              "  {'tag': 'withdraw refunds',\n",
              "   'patterns': ['How to withdraw refunds from wallet?',\n",
              "    'Withdraw funds',\n",
              "    'Can I withdraw refunds',\n",
              "    'Refund withdrawal process',\n",
              "    'Withdraw process'],\n",
              "   'responses': [\"Withdrawing refunds from your wallet is very easy. Please follow the steps below: Step 1: Click on the 'Wallet' icon on the top right corner of the Daraz App, or click here. Step 2: Click on the 'Balance Details' Icon. Step 3: Click on 'Withdraw' button. Step 4: Enter your bank account details and click 'Withdraw'. Step 5: You will receive a verification email, click confirm to initiate your withdrawal request.\"]},\n",
              "  {'tag': 'order status',\n",
              "   'patterns': ['What is my order status',\n",
              "    'I want to know my return status',\n",
              "    'How to return status',\n",
              "    'Order tracking',\n",
              "    'Order status check'],\n",
              "   'responses': ['Please visit the My Orders page for a list of your confirmed orders.']},\n",
              "  {'tag': 'use voucher',\n",
              "   'patterns': ['How to use a voucher?',\n",
              "    'Can I use a voucher?',\n",
              "    'How to use a voucher?',\n",
              "    'Voucher redemption process'],\n",
              "   'responses': ['You can add a voucher by clicking on My Cart > Check Out > Enter Voucher Code > APPLY. ']},\n",
              "  {'tag': 'profile info',\n",
              "   'patterns': ['How can I change my profile information',\n",
              "    'I want to change my password',\n",
              "    'I want to change my phone number',\n",
              "    'I want to change my address',\n",
              "    'I want to Reset my password',\n",
              "    'I want to delete my account',\n",
              "    'delete my account',\n",
              "    'Account settings',\n",
              "    'Edit profile'],\n",
              "   'responses': [\"You can easily add or change your account details by following the steps below: Step 1: Click on 'Account', Step 2: Click on 'Manage my account' from the icon, Step 3: You change or edit your name, address, email address, mobile number, etc., Step 4: Fill in the required details, and click on Save. Note: You can also change your delivery address from the Checkout page before proceeding to pay.\"]},\n",
              "  {'tag': 'mobile app',\n",
              "   'patterns': ['Can I download a mobile app for this?',\n",
              "    'Mobile app',\n",
              "    'Download mobile app',\n",
              "    'App download',\n",
              "    'Mobile application'],\n",
              "   'responses': ['You can download the Daraz Mobile App from both IOS App Store, and Google Play Store. ']},\n",
              "  {'tag': 'help',\n",
              "   'patterns': ['Help',\n",
              "    'I need assistance',\n",
              "    'Assist me',\n",
              "    'Support',\n",
              "    'Help me out',\n",
              "    'Need help',\n",
              "    'Help required'],\n",
              "   'responses': [\"Sure, I'm here to assist you. What do you need help with?\"]},\n",
              "  {'tag': 'fallback',\n",
              "   'patterns': [],\n",
              "   'responses': [\"Sorry, I couldn't understand your question. Please try rephrasing it or ask for assistance.\"]}]}"
            ]
          },
          "metadata": {},
          "execution_count": 16
        }
      ]
    },
    {
      "cell_type": "markdown",
      "source": [
        "**Initialize Variables:**\n"
      ],
      "metadata": {
        "id": "_fkUb6gFSiEq"
      }
    },
    {
      "cell_type": "code",
      "source": [
        "# Initialize variables\n",
        "words = []\n",
        "classes = []\n",
        "documents = []\n",
        "ignore_words = ['?', '!']\n",
        "\n",
        "# Tokenize and lemmatize each pattern in the intents file\n",
        "for intent in intents['intents']:\n",
        "    for pattern in intent['patterns']:\n",
        "        w = nltk.word_tokenize(pattern)\n",
        "        words.extend(w)\n",
        "        documents.append((w, intent['tag']))\n",
        "        if intent['tag'] not in classes:\n",
        "            classes.append(intent['tag'])\n",
        "\n",
        "# Lemmatize, lower each word and remove duplicates\n",
        "words = [lemmatizer.lemmatize(w.lower()) for w in words if w not in ignore_words]\n",
        "words = sorted(set(words))\n",
        "\n",
        "# Sort classes\n",
        "classes = sorted(set(classes))\n",
        "\n",
        "# Print information about the data\n",
        "print(f\"{len(documents)} documents\")\n",
        "print(f\"{len(classes)} classes: {classes}\")\n",
        "print(f\"{len(words)} unique lemmatized words: {words}\")\n",
        "\n",
        "# Save words and classes\n",
        "pickle.dump(words, open('words.pkl', 'wb'))\n",
        "pickle.dump(classes, open('classes.pkl', 'wb'))\n"
      ],
      "metadata": {
        "colab": {
          "base_uri": "https://localhost:8080/"
        },
        "id": "gQS_Aj1jOZNC",
        "outputId": "630e1204-8d62-46b3-f3c7-970c5cba8770"
      },
      "execution_count": 17,
      "outputs": [
        {
          "output_type": "stream",
          "name": "stdout",
          "text": [
            "126 documents\n",
            "23 classes: ['cancel', 'confirm', 'delay', 'delivery', 'goodbye', 'greeting', 'help', 'items', 'mobile app', 'more', 'order status', 'payments', 'personal', 'profile info', 'reasons', 'refund', 'refund status', 'return', 'thanks', 'track', 'use voucher', 'user response', 'withdraw refunds']\n",
            "161 unique lemmatized words: [\"'m\", \"'s\", '.', 'a', 'about', 'accept', 'account', 'address', 'agent', 'am', 'an', 'any', 'anyone', 'app', 'application', 'are', 'assist', 'assistance', 'available', 'be', 'become', 'but', 'buy', 'bye', 'call', 'can', 'cancel', 'cancelation', 'cancellation', 'cancelled', 'card', 'cash', 'change', 'check', 'common', 'completed', 'confirmation', 'confirmed', 'contact', 'credit', 'credited', 'customer', 'day', 'deducted', 'delay', 'delayed', 'delete', 'delivered', 'delivery', 'did', 'do', 'doe', 'doing', 'download', 'edit', 'even', 'for', 'from', 'fund', 'get', 'good', 'goodbye', 'have', 'hello', 'help', 'helpful', 'helpline', 'hey', 'hi', 'how', 'i', 'im', 'information', 'is', 'it', 'item', 'kind', 'know', 'later', 'long', 'lot', 'mastercard', 'me', 'method', 'mobile', 'money', 'more', 'my', \"n't\", 'need', 'no', 'not', 'number', 'of', 'offer', 'okay', 'only', 'order', 'out', 'password', 'pay', 'payment', 'phone', 'please', 'policy', 'procedure', 'process', 'processed', 'profile', 'reason', 'receive', 'received', 'redemption', 'refund', 'refunded', 'required', 'reset', 'return', 'returned', 'say', 'see', 'sell', 'seller', 'service', 'setting', 'shipping', 'should', 'status', 'successfully', 'support', 'take', 'talk', 'tell', 'thank', 'thanks', 'that', 'the', 'there', 'this', 'thnks', 'though', 'thx', 'to', 'track', 'tracking', 'use', 'voucher', 'wa', 'wallet', 'want', 'what', 'when', 'which', 'why', 'will', 'with', 'withdraw', 'withdrawal', 'yet', 'you', 'your']\n"
          ]
        }
      ]
    },
    {
      "cell_type": "markdown",
      "source": [
        "**Create Training Data:**"
      ],
      "metadata": {
        "id": "uE8OFztDSfEV"
      }
    },
    {
      "cell_type": "code",
      "source": [
        "# Create training data\n",
        "training = []\n",
        "output_empty = [0] * len(classes)\n",
        "\n",
        "for doc in documents:\n",
        "    bag = []\n",
        "    pattern_words = doc[0]\n",
        "    pattern_words = [lemmatizer.lemmatize(word.lower()) for word in pattern_words]\n",
        "    for w in words:\n",
        "        bag.append(1 if w in pattern_words else 0)\n",
        "    output_row = list(output_empty)\n",
        "    output_row[classes.index(doc[1])] = 1\n",
        "    training.append([bag, output_row])\n",
        "\n",
        "\n",
        "# Shuffle the data and convert to numpy arrays\n",
        "random.shuffle(training)\n",
        "training = np.array(training, dtype=object)\n",
        "\n",
        "train_x = np.array([i[0] for i in training])\n",
        "train_y = np.array([i[1] for i in training])\n",
        "\n",
        "print(\"Training data created\")\n",
        "print(\"Shape of train_x:\", train_x.shape)\n",
        "print(\"Shape of train_y:\", train_y.shape)\n"
      ],
      "metadata": {
        "colab": {
          "base_uri": "https://localhost:8080/"
        },
        "id": "KUqPtoHROfYg",
        "outputId": "10ade4c7-87fd-40fe-98c5-a56252d44dc2"
      },
      "execution_count": 18,
      "outputs": [
        {
          "output_type": "stream",
          "name": "stdout",
          "text": [
            "Training data created\n",
            "Shape of train_x: (126, 161)\n",
            "Shape of train_y: (126, 23)\n"
          ]
        }
      ]
    },
    {
      "cell_type": "markdown",
      "source": [
        "**Step 2: Build and Train the Model**"
      ],
      "metadata": {
        "id": "foZ7cBJbSW-x"
      }
    },
    {
      "cell_type": "markdown",
      "source": [
        "Define and Compile Model:"
      ],
      "metadata": {
        "id": "BV7TJ9CKSWWs"
      }
    },
    {
      "cell_type": "code",
      "source": [
        "from keras.models import Sequential\n",
        "from keras.layers import Dense, Dropout\n",
        "\n",
        "# Calculate input & output shape based on the length of label vectors\n",
        "input_shape = len(train_x[0])\n",
        "output_shape = len(train_y[0])\n",
        "\n",
        "\n",
        "#  Define LSTM model\n",
        "model = Sequential()\n",
        "model.add(Dense(128, input_shape=(input_shape,), activation='relu'))\n",
        "model.add(Dropout(0.5))\n",
        "model.add(Dense(64, activation='relu'))\n",
        "model.add(Dropout(0.5))\n",
        "model.add(Dense(output_shape, activation='softmax'))\n",
        "\n",
        "# Compile model\n",
        "model.compile(loss='categorical_crossentropy', optimizer='adam', metrics=['accuracy'])\n"
      ],
      "metadata": {
        "id": "uCWWnFlzOi7T"
      },
      "execution_count": 19,
      "outputs": []
    },
    {
      "cell_type": "markdown",
      "source": [
        "**Train the Model:**"
      ],
      "metadata": {
        "id": "ozEl35hlSS4u"
      }
    },
    {
      "cell_type": "code",
      "source": [
        "# Train model\n",
        "history = model.fit(np.array(train_x), np.array(train_y), epochs=100, batch_size=5, verbose=1)\n",
        "\n",
        "# Save model\n",
        "model.save('chatbot_model.h5')\n",
        "\n",
        "print(\"Model created and saved\")\n"
      ],
      "metadata": {
        "colab": {
          "base_uri": "https://localhost:8080/"
        },
        "id": "FggibXMCOmKm",
        "outputId": "fe1b0803-29a4-42e7-8e02-eca704677c30"
      },
      "execution_count": 20,
      "outputs": [
        {
          "output_type": "stream",
          "name": "stdout",
          "text": [
            "Epoch 1/100\n",
            "26/26 [==============================] - 1s 4ms/step - loss: 3.1244 - accuracy: 0.0317\n",
            "Epoch 2/100\n",
            "26/26 [==============================] - 0s 3ms/step - loss: 3.0829 - accuracy: 0.0873\n",
            "Epoch 3/100\n",
            "26/26 [==============================] - 0s 3ms/step - loss: 3.0546 - accuracy: 0.1190\n",
            "Epoch 4/100\n",
            "26/26 [==============================] - 0s 3ms/step - loss: 2.9662 - accuracy: 0.1508\n",
            "Epoch 5/100\n",
            "26/26 [==============================] - 0s 3ms/step - loss: 2.8744 - accuracy: 0.1746\n",
            "Epoch 6/100\n",
            "26/26 [==============================] - 0s 3ms/step - loss: 2.8245 - accuracy: 0.2222\n",
            "Epoch 7/100\n",
            "26/26 [==============================] - 0s 3ms/step - loss: 2.7134 - accuracy: 0.2857\n",
            "Epoch 8/100\n",
            "26/26 [==============================] - 0s 3ms/step - loss: 2.6146 - accuracy: 0.2619\n",
            "Epoch 9/100\n",
            "26/26 [==============================] - 0s 3ms/step - loss: 2.5004 - accuracy: 0.2619\n",
            "Epoch 10/100\n",
            "26/26 [==============================] - 0s 3ms/step - loss: 2.3829 - accuracy: 0.3254\n",
            "Epoch 11/100\n",
            "26/26 [==============================] - 0s 3ms/step - loss: 2.3494 - accuracy: 0.3730\n",
            "Epoch 12/100\n",
            "26/26 [==============================] - 0s 3ms/step - loss: 2.1708 - accuracy: 0.3730\n",
            "Epoch 13/100\n",
            "26/26 [==============================] - 0s 3ms/step - loss: 1.9919 - accuracy: 0.4444\n",
            "Epoch 14/100\n",
            "26/26 [==============================] - 0s 4ms/step - loss: 1.9085 - accuracy: 0.4524\n",
            "Epoch 15/100\n",
            "26/26 [==============================] - 0s 3ms/step - loss: 1.8275 - accuracy: 0.5794\n",
            "Epoch 16/100\n",
            "26/26 [==============================] - 0s 3ms/step - loss: 1.6425 - accuracy: 0.6587\n",
            "Epoch 17/100\n",
            "26/26 [==============================] - 0s 3ms/step - loss: 1.6833 - accuracy: 0.5714\n",
            "Epoch 18/100\n",
            "26/26 [==============================] - 0s 3ms/step - loss: 1.3857 - accuracy: 0.7063\n",
            "Epoch 19/100\n",
            "26/26 [==============================] - 0s 3ms/step - loss: 1.3984 - accuracy: 0.6270\n",
            "Epoch 20/100\n",
            "26/26 [==============================] - 0s 3ms/step - loss: 1.3437 - accuracy: 0.6508\n",
            "Epoch 21/100\n",
            "26/26 [==============================] - 0s 3ms/step - loss: 1.2624 - accuracy: 0.7143\n",
            "Epoch 22/100\n",
            "26/26 [==============================] - 0s 4ms/step - loss: 1.0955 - accuracy: 0.8016\n",
            "Epoch 23/100\n",
            "26/26 [==============================] - 0s 3ms/step - loss: 1.1416 - accuracy: 0.7381\n",
            "Epoch 24/100\n",
            "26/26 [==============================] - 0s 3ms/step - loss: 0.9384 - accuracy: 0.8016\n",
            "Epoch 25/100\n",
            "26/26 [==============================] - 0s 3ms/step - loss: 1.0981 - accuracy: 0.7222\n",
            "Epoch 26/100\n",
            "26/26 [==============================] - 0s 3ms/step - loss: 0.9283 - accuracy: 0.7619\n",
            "Epoch 27/100\n",
            "26/26 [==============================] - 0s 5ms/step - loss: 0.8622 - accuracy: 0.7698\n",
            "Epoch 28/100\n",
            "26/26 [==============================] - 0s 5ms/step - loss: 0.7655 - accuracy: 0.8333\n",
            "Epoch 29/100\n",
            "26/26 [==============================] - 0s 5ms/step - loss: 0.8482 - accuracy: 0.7937\n",
            "Epoch 30/100\n",
            "26/26 [==============================] - 0s 5ms/step - loss: 0.8081 - accuracy: 0.7698\n",
            "Epoch 31/100\n",
            "26/26 [==============================] - 0s 5ms/step - loss: 0.8466 - accuracy: 0.7778\n",
            "Epoch 32/100\n",
            "26/26 [==============================] - 0s 5ms/step - loss: 0.6817 - accuracy: 0.8095\n",
            "Epoch 33/100\n",
            "26/26 [==============================] - 0s 4ms/step - loss: 0.6545 - accuracy: 0.8333\n",
            "Epoch 34/100\n",
            "26/26 [==============================] - 0s 4ms/step - loss: 0.6586 - accuracy: 0.8254\n",
            "Epoch 35/100\n",
            "26/26 [==============================] - 0s 5ms/step - loss: 0.6543 - accuracy: 0.8175\n",
            "Epoch 36/100\n",
            "26/26 [==============================] - 0s 5ms/step - loss: 0.5651 - accuracy: 0.8492\n",
            "Epoch 37/100\n",
            "26/26 [==============================] - 0s 5ms/step - loss: 0.6132 - accuracy: 0.8492\n",
            "Epoch 38/100\n",
            "26/26 [==============================] - 0s 5ms/step - loss: 0.5889 - accuracy: 0.8571\n",
            "Epoch 39/100\n",
            "26/26 [==============================] - 0s 5ms/step - loss: 0.6044 - accuracy: 0.8571\n",
            "Epoch 40/100\n",
            "26/26 [==============================] - 0s 5ms/step - loss: 0.4588 - accuracy: 0.8492\n",
            "Epoch 41/100\n",
            "26/26 [==============================] - 0s 5ms/step - loss: 0.4161 - accuracy: 0.9048\n",
            "Epoch 42/100\n",
            "26/26 [==============================] - 0s 5ms/step - loss: 0.4043 - accuracy: 0.9206\n",
            "Epoch 43/100\n",
            "26/26 [==============================] - 0s 5ms/step - loss: 0.4303 - accuracy: 0.8968\n",
            "Epoch 44/100\n",
            "26/26 [==============================] - 0s 5ms/step - loss: 0.4074 - accuracy: 0.9048\n",
            "Epoch 45/100\n",
            "26/26 [==============================] - 0s 4ms/step - loss: 0.3868 - accuracy: 0.9286\n",
            "Epoch 46/100\n",
            "26/26 [==============================] - 0s 5ms/step - loss: 0.4221 - accuracy: 0.8730\n",
            "Epoch 47/100\n",
            "26/26 [==============================] - 0s 5ms/step - loss: 0.3767 - accuracy: 0.8968\n",
            "Epoch 48/100\n",
            "26/26 [==============================] - 0s 5ms/step - loss: 0.4042 - accuracy: 0.8968\n",
            "Epoch 49/100\n",
            "26/26 [==============================] - 0s 5ms/step - loss: 0.4114 - accuracy: 0.8889\n",
            "Epoch 50/100\n",
            "26/26 [==============================] - 0s 4ms/step - loss: 0.3741 - accuracy: 0.9048\n",
            "Epoch 51/100\n",
            "26/26 [==============================] - 0s 3ms/step - loss: 0.3266 - accuracy: 0.9286\n",
            "Epoch 52/100\n",
            "26/26 [==============================] - 0s 3ms/step - loss: 0.3508 - accuracy: 0.9048\n",
            "Epoch 53/100\n",
            "26/26 [==============================] - 0s 3ms/step - loss: 0.3712 - accuracy: 0.9365\n",
            "Epoch 54/100\n",
            "26/26 [==============================] - 0s 3ms/step - loss: 0.3777 - accuracy: 0.9048\n",
            "Epoch 55/100\n",
            "26/26 [==============================] - 0s 3ms/step - loss: 0.3934 - accuracy: 0.9206\n",
            "Epoch 56/100\n",
            "26/26 [==============================] - 0s 3ms/step - loss: 0.3639 - accuracy: 0.8889\n",
            "Epoch 57/100\n",
            "26/26 [==============================] - 0s 4ms/step - loss: 0.3044 - accuracy: 0.9524\n",
            "Epoch 58/100\n",
            "26/26 [==============================] - 0s 3ms/step - loss: 0.2539 - accuracy: 0.9127\n",
            "Epoch 59/100\n",
            "26/26 [==============================] - 0s 3ms/step - loss: 0.2989 - accuracy: 0.9365\n",
            "Epoch 60/100\n",
            "26/26 [==============================] - 0s 3ms/step - loss: 0.3432 - accuracy: 0.9048\n",
            "Epoch 61/100\n",
            "26/26 [==============================] - 0s 3ms/step - loss: 0.2755 - accuracy: 0.9365\n",
            "Epoch 62/100\n",
            "26/26 [==============================] - 0s 3ms/step - loss: 0.3023 - accuracy: 0.9365\n",
            "Epoch 63/100\n",
            "26/26 [==============================] - 0s 3ms/step - loss: 0.2280 - accuracy: 0.9603\n",
            "Epoch 64/100\n",
            "26/26 [==============================] - 0s 3ms/step - loss: 0.2612 - accuracy: 0.9444\n",
            "Epoch 65/100\n",
            "26/26 [==============================] - 0s 4ms/step - loss: 0.2636 - accuracy: 0.9365\n",
            "Epoch 66/100\n",
            "26/26 [==============================] - 0s 3ms/step - loss: 0.2222 - accuracy: 0.9365\n",
            "Epoch 67/100\n",
            "26/26 [==============================] - 0s 3ms/step - loss: 0.2181 - accuracy: 0.9444\n",
            "Epoch 68/100\n",
            "26/26 [==============================] - 0s 4ms/step - loss: 0.1949 - accuracy: 0.9524\n",
            "Epoch 69/100\n",
            "26/26 [==============================] - 0s 3ms/step - loss: 0.2021 - accuracy: 0.9444\n",
            "Epoch 70/100\n",
            "26/26 [==============================] - 0s 3ms/step - loss: 0.2779 - accuracy: 0.9444\n",
            "Epoch 71/100\n",
            "26/26 [==============================] - 0s 3ms/step - loss: 0.2460 - accuracy: 0.9444\n",
            "Epoch 72/100\n",
            "26/26 [==============================] - 0s 3ms/step - loss: 0.2694 - accuracy: 0.9206\n",
            "Epoch 73/100\n",
            "26/26 [==============================] - 0s 3ms/step - loss: 0.1872 - accuracy: 0.9524\n",
            "Epoch 74/100\n",
            "26/26 [==============================] - 0s 3ms/step - loss: 0.1887 - accuracy: 0.9444\n",
            "Epoch 75/100\n",
            "26/26 [==============================] - 0s 3ms/step - loss: 0.2168 - accuracy: 0.9444\n",
            "Epoch 76/100\n",
            "26/26 [==============================] - 0s 3ms/step - loss: 0.1816 - accuracy: 0.9524\n",
            "Epoch 77/100\n",
            "26/26 [==============================] - 0s 3ms/step - loss: 0.2416 - accuracy: 0.9206\n",
            "Epoch 78/100\n",
            "26/26 [==============================] - 0s 3ms/step - loss: 0.1687 - accuracy: 0.9603\n",
            "Epoch 79/100\n",
            "26/26 [==============================] - 0s 4ms/step - loss: 0.1859 - accuracy: 0.9524\n",
            "Epoch 80/100\n",
            "26/26 [==============================] - 0s 3ms/step - loss: 0.2308 - accuracy: 0.9365\n",
            "Epoch 81/100\n",
            "26/26 [==============================] - 0s 4ms/step - loss: 0.1419 - accuracy: 0.9841\n",
            "Epoch 82/100\n",
            "26/26 [==============================] - 0s 4ms/step - loss: 0.2246 - accuracy: 0.9206\n",
            "Epoch 83/100\n",
            "26/26 [==============================] - 0s 3ms/step - loss: 0.1715 - accuracy: 0.9603\n",
            "Epoch 84/100\n",
            "26/26 [==============================] - 0s 3ms/step - loss: 0.1601 - accuracy: 0.9524\n",
            "Epoch 85/100\n",
            "26/26 [==============================] - 0s 3ms/step - loss: 0.1445 - accuracy: 0.9683\n",
            "Epoch 86/100\n",
            "26/26 [==============================] - 0s 3ms/step - loss: 0.1910 - accuracy: 0.9444\n",
            "Epoch 87/100\n",
            "26/26 [==============================] - 0s 3ms/step - loss: 0.1390 - accuracy: 0.9603\n",
            "Epoch 88/100\n",
            "26/26 [==============================] - 0s 3ms/step - loss: 0.1538 - accuracy: 0.9683\n",
            "Epoch 89/100\n",
            "26/26 [==============================] - 0s 4ms/step - loss: 0.2024 - accuracy: 0.9524\n",
            "Epoch 90/100\n",
            "26/26 [==============================] - 0s 3ms/step - loss: 0.1621 - accuracy: 0.9603\n",
            "Epoch 91/100\n",
            "26/26 [==============================] - 0s 3ms/step - loss: 0.1575 - accuracy: 0.9444\n",
            "Epoch 92/100\n",
            "26/26 [==============================] - 0s 3ms/step - loss: 0.2261 - accuracy: 0.9365\n",
            "Epoch 93/100\n",
            "26/26 [==============================] - 0s 3ms/step - loss: 0.1286 - accuracy: 0.9603\n",
            "Epoch 94/100\n",
            "26/26 [==============================] - 0s 3ms/step - loss: 0.1321 - accuracy: 0.9524\n",
            "Epoch 95/100\n",
            "26/26 [==============================] - 0s 3ms/step - loss: 0.1434 - accuracy: 0.9524\n",
            "Epoch 96/100\n",
            "26/26 [==============================] - 0s 3ms/step - loss: 0.0939 - accuracy: 0.9841\n",
            "Epoch 97/100\n",
            "26/26 [==============================] - 0s 3ms/step - loss: 0.1365 - accuracy: 0.9683\n",
            "Epoch 98/100\n",
            "26/26 [==============================] - 0s 3ms/step - loss: 0.1268 - accuracy: 0.9762\n",
            "Epoch 99/100\n",
            "26/26 [==============================] - 0s 3ms/step - loss: 0.1533 - accuracy: 0.9603\n",
            "Epoch 100/100\n",
            "26/26 [==============================] - 0s 4ms/step - loss: 0.1573 - accuracy: 0.9603\n",
            "Model created and saved\n"
          ]
        },
        {
          "output_type": "stream",
          "name": "stderr",
          "text": [
            "/usr/local/lib/python3.10/dist-packages/keras/src/engine/training.py:3103: UserWarning: You are saving your model as an HDF5 file via `model.save()`. This file format is considered legacy. We recommend using instead the native Keras format, e.g. `model.save('my_model.keras')`.\n",
            "  saving_api.save_model(\n"
          ]
        }
      ]
    },
    {
      "cell_type": "markdown",
      "source": [
        "**Step 3: Analyze and Visualize Data**"
      ],
      "metadata": {
        "id": "CxP-j8m9SKRH"
      }
    },
    {
      "cell_type": "markdown",
      "source": [
        "Analyze Intent Distribution:"
      ],
      "metadata": {
        "id": "Hb65Ub-oSLD9"
      }
    },
    {
      "cell_type": "code",
      "source": [
        "def count_intents(documents):\n",
        "    intent_counts = {}\n",
        "    for document in documents:\n",
        "        intent = document[1]\n",
        "        if intent in intent_counts:\n",
        "            intent_counts[intent] += 1\n",
        "        else:\n",
        "            intent_counts[intent] = 1\n",
        "    return intent_counts\n",
        "\n",
        "intent_counts = count_intents(documents)\n",
        "\n",
        "for intent, count in intent_counts.items():\n",
        "    print(f\"{intent}: {count}\")\n"
      ],
      "metadata": {
        "colab": {
          "base_uri": "https://localhost:8080/"
        },
        "id": "xOVLkH5YOs4f",
        "outputId": "83e89651-d604-498e-abec-7c08705749b3"
      },
      "execution_count": 21,
      "outputs": [
        {
          "output_type": "stream",
          "name": "stdout",
          "text": [
            "greeting: 5\n",
            "personal: 3\n",
            "user response: 5\n",
            "goodbye: 3\n",
            "thanks: 6\n",
            "items: 5\n",
            "payments: 6\n",
            "track: 4\n",
            "delivery: 5\n",
            "confirm: 4\n",
            "delay: 4\n",
            "reasons: 4\n",
            "more: 12\n",
            "cancel: 6\n",
            "refund: 6\n",
            "refund status: 7\n",
            "return: 6\n",
            "withdraw refunds: 5\n",
            "order status: 5\n",
            "use voucher: 4\n",
            "profile info: 9\n",
            "mobile app: 5\n",
            "help: 7\n"
          ]
        }
      ]
    },
    {
      "cell_type": "markdown",
      "source": [
        "Visualize Intent Distribution:"
      ],
      "metadata": {
        "id": "_hkC9bwUSHBb"
      }
    },
    {
      "cell_type": "code",
      "source": [
        "import matplotlib.pyplot as plt\n",
        "\n",
        "def visualize_intent_distribution(intent_counts):\n",
        "    intents = list(intent_counts.keys())\n",
        "    counts = list(intent_counts.values())\n",
        "\n",
        "    plt.figure(figsize=(10, 6))\n",
        "    plt.bar(intents, counts, color='skyblue')\n",
        "    plt.xlabel('Intents')\n",
        "    plt.ylabel('Count')\n",
        "    plt.title('Intent Distribution')\n",
        "    plt.xticks(rotation=45, ha='right')\n",
        "    plt.tight_layout()\n",
        "    plt.show()\n",
        "\n",
        "visualize_intent_distribution(intent_counts)\n"
      ],
      "metadata": {
        "colab": {
          "base_uri": "https://localhost:8080/",
          "height": 416
        },
        "id": "w-OOh6p6Ov0j",
        "outputId": "a1193dd7-b9a1-42c7-be39-66db9056af1f"
      },
      "execution_count": 22,
      "outputs": [
        {
          "output_type": "display_data",
          "data": {
            "text/plain": [
              "<Figure size 1000x600 with 1 Axes>"
            ],
            "image/png": "[encoded data removed]"
          },
          "metadata": {}
        }
      ]
    },
    {
      "cell_type": "markdown",
      "source": [
        "**Step 4: Implement Chat Functionality**"
      ],
      "metadata": {
        "id": "9H5DiukvR8wS"
      }
    },
    {
      "cell_type": "markdown",
      "source": [
        "Define Functions for Predicting and Responding:"
      ],
      "metadata": {
        "id": "yiFwqqi7SAMu"
      }
    },
    {
      "cell_type": "code",
      "source": [
        "def predict_class(sentence, model):\n",
        "  # Clean up sentence\n",
        "    sentence_words = nltk.word_tokenize(sentence)\n",
        "    sentence_words = [lemmatizer.lemmatize(word.lower()) for word in sentence_words]\n",
        "    # Generate bag of words\n",
        "    bag = [0] * len(words)\n",
        "    for s in sentence_words:\n",
        "        for i, w in enumerate(words):\n",
        "            if w == s:\n",
        "                bag[i] = 1\n",
        "\n",
        "    # Predict class\n",
        "    result = model.predict(np.array([bag]))[0]\n",
        "\n",
        "    # Filter out predictions below a threshold\n",
        "    ERROR_THRESHOLD = 0.25\n",
        "    results = [[i, r] for i, r in enumerate(result) if r > ERROR_THRESHOLD]\n",
        "    # Sort by strength of probability\n",
        "    results.sort(key=lambda x: x[1], reverse=True)\n",
        "    if results:\n",
        "        return_list = [{'intent': classes[r[0]], 'probability': str(r[1])} for r in results]\n",
        "    else:\n",
        "        return_list = []\n",
        "    return return_list\n",
        "\n",
        "def get_response(intents_list, intents_json):\n",
        "    if intents_list:\n",
        "        tag = intents_list[0]['intent']\n",
        "        list_of_intents = intents_json['intents']\n",
        "        for i in list_of_intents:\n",
        "            if i['tag'] == tag:\n",
        "                return random.choice(i['responses'])\n",
        "    # Fallback response\n",
        "    for intent in intents_json['intents']:\n",
        "        if intent['tag'] == 'fallback':\n",
        "            return random.choice(intent['responses'])\n",
        "    return \"Sorry, I couldn't understand your question.\"\n"
      ],
      "metadata": {
        "id": "XKHAHwcLPNRo"
      },
      "execution_count": null,
      "outputs": []
    },
    {
      "cell_type": "markdown",
      "source": [
        "**Start the Chat:**"
      ],
      "metadata": {
        "id": "VwJvEMlkR2wu"
      }
    },
    {
      "cell_type": "markdown",
      "source": [],
      "metadata": {
        "id": "GtUuP3keR2jM"
      }
    },
    {
      "cell_type": "code",
      "source": [
        "def chat():\n",
        "    print(\"Start talking with the chatbot (type 'quit' to exit)!\")\n",
        "    while True:\n",
        "        user_input = input(\"You: \")\n",
        "        if user_input.lower() == 'quit':\n",
        "            print(\"Exiting chat...\")\n",
        "            break\n",
        "        else:\n",
        "            intents_list = predict_class(user_input, model)\n",
        "            if intents_list:\n",
        "                response = get_response(intents_list, intents)\n",
        "            else:\n",
        "                response = get_response([], intents)  # Handle fallback\n",
        "            print(\"Bot:\", response)\n",
        "\n",
        "# Start the chat\n",
        "chat()\n"
      ],
      "metadata": {
        "colab": {
          "base_uri": "https://localhost:8080/"
        },
        "id": "-orIGqiWPQHf",
        "outputId": "ee9733f8-3272-42d0-aee4-727be572c7b1"
      },
      "execution_count": 26,
      "outputs": [
        {
          "output_type": "stream",
          "name": "stdout",
          "text": [
            "Start talking with the chatbot (type 'quit' to exit)!\n",
            "You: hey\n",
            "1/1 [==============================] - 0s 49ms/step\n",
            "Bot: Hey :-) My name is Daz!\n",
            "You: how are you\n",
            "1/1 [==============================] - 0s 30ms/step\n",
            "Bot: I'm good, all's good, thanks. How about you?\n",
            "You: what items do you have\n",
            "1/1 [==============================] - 0s 18ms/step\n",
            "Bot: Search your preference in our flagship store's search bar to see all available products. \n",
            "You: how to track an order\n",
            "1/1 [==============================] - 0s 17ms/step\n",
            "Bot: Visit the order page, click on the specific order, select 'track my order', and check the status\n",
            "You: thenks\n",
            "1/1 [==============================] - 0s 27ms/step\n",
            "Bot: Sorry, I couldn't understand your question. Please try rephrasing it or ask for assistance.\n",
            "You: thanks\n",
            "1/1 [==============================] - 0s 18ms/step\n",
            "Bot: Happy to help!\n",
            "You: byo\n",
            "1/1 [==============================] - 0s 25ms/step\n",
            "Bot: Sorry, I couldn't understand your question. Please try rephrasing it or ask for assistance.\n",
            "You: bye\n",
            "1/1 [==============================] - 0s 17ms/step\n",
            "Bot: See you later, thanks for visiting. Hope I was able to help!\n",
            "You: quit\n",
            "Exiting chat...\n"
          ]
        }
      ]
    },
    {
      "cell_type": "code",
      "source": [],
      "metadata": {
        "id": "d0kGraZgTUMX"
      },
      "execution_count": null,
      "outputs": []
    }
  ],
  "metadata": {
    "colab": {
      "provenance": [],
      "gpuType": "T4",
      "authorship_tag": "ABX9TyOQcQk99n6F0glm7z2L4ul7",
      "include_colab_link": true
    },
    "kernelspec": {
      "display_name": "Python 3",
      "name": "python3"
    },
    "language_info": {
      "name": "python"
    },
    "accelerator": "GPU"
  },
  "nbformat": 4,
  "nbformat_minor": 0
}